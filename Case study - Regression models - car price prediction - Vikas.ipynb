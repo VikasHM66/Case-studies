{
 "cells": [
  {
   "cell_type": "markdown",
   "metadata": {},
   "source": [
    "## `Regression models - car price prediction.`"
   ]
  },
  {
   "cell_type": "markdown",
   "metadata": {},
   "source": [
    "### Lets Load required libraries."
   ]
  },
  {
   "cell_type": "code",
   "execution_count": 218,
   "metadata": {},
   "outputs": [],
   "source": [
    "import numpy as np\n",
    "import pandas as pd\n",
    "import seaborn as sns\n",
    "import matplotlib.pyplot as plt\n",
    "import warnings\n",
    "warnings.filterwarnings('ignore')\n",
    "\n",
    "from sklearn.linear_model import LinearRegression\n",
    "from sklearn.preprocessing import StandardScaler\n",
    "import statsmodels.api as sm\n",
    "from sklearn.model_selection import cross_val_score,KFold\n",
    "pd.options.display.max_columns=None\n",
    "pd.options.display.max_rows=None"
   ]
  },
  {
   "cell_type": "markdown",
   "metadata": {},
   "source": [
    "### Lets load the dataset."
   ]
  },
  {
   "cell_type": "code",
   "execution_count": 219,
   "metadata": {},
   "outputs": [
    {
     "data": {
      "text/html": [
       "<div>\n",
       "<style scoped>\n",
       "    .dataframe tbody tr th:only-of-type {\n",
       "        vertical-align: middle;\n",
       "    }\n",
       "\n",
       "    .dataframe tbody tr th {\n",
       "        vertical-align: top;\n",
       "    }\n",
       "\n",
       "    .dataframe thead th {\n",
       "        text-align: right;\n",
       "    }\n",
       "</style>\n",
       "<table border=\"1\" class=\"dataframe\">\n",
       "  <thead>\n",
       "    <tr style=\"text-align: right;\">\n",
       "      <th></th>\n",
       "      <th>Manufacturer</th>\n",
       "      <th>Model</th>\n",
       "      <th>Type</th>\n",
       "      <th>Min.Price</th>\n",
       "      <th>Price</th>\n",
       "      <th>Max.Price</th>\n",
       "      <th>MPG.city</th>\n",
       "      <th>MPG.highway</th>\n",
       "      <th>AirBags</th>\n",
       "      <th>DriveTrain</th>\n",
       "      <th>Cylinders</th>\n",
       "      <th>EngineSize</th>\n",
       "      <th>Horsepower</th>\n",
       "      <th>RPM</th>\n",
       "      <th>Rev.per.mile</th>\n",
       "      <th>Man.trans.avail</th>\n",
       "      <th>Fuel.tank.capacity</th>\n",
       "      <th>Passengers</th>\n",
       "      <th>Length</th>\n",
       "      <th>Wheelbase</th>\n",
       "      <th>Width</th>\n",
       "      <th>Turn.circle</th>\n",
       "      <th>Rear.seat.room</th>\n",
       "      <th>Luggage.room</th>\n",
       "      <th>Weight</th>\n",
       "      <th>Origin</th>\n",
       "      <th>Make</th>\n",
       "    </tr>\n",
       "  </thead>\n",
       "  <tbody>\n",
       "    <tr>\n",
       "      <th>0</th>\n",
       "      <td>Acura</td>\n",
       "      <td>Integra</td>\n",
       "      <td>Small</td>\n",
       "      <td>12.9</td>\n",
       "      <td>15.9</td>\n",
       "      <td>18.8</td>\n",
       "      <td>25</td>\n",
       "      <td>31</td>\n",
       "      <td>None</td>\n",
       "      <td>Front</td>\n",
       "      <td>4</td>\n",
       "      <td>1.8</td>\n",
       "      <td>140</td>\n",
       "      <td>6300</td>\n",
       "      <td>2890</td>\n",
       "      <td>Yes</td>\n",
       "      <td>13.2</td>\n",
       "      <td>5</td>\n",
       "      <td>177</td>\n",
       "      <td>102</td>\n",
       "      <td>68</td>\n",
       "      <td>37</td>\n",
       "      <td>26.5</td>\n",
       "      <td>11.0</td>\n",
       "      <td>2705</td>\n",
       "      <td>non-USA</td>\n",
       "      <td>Acura Integra</td>\n",
       "    </tr>\n",
       "    <tr>\n",
       "      <th>1</th>\n",
       "      <td>Acura</td>\n",
       "      <td>Legend</td>\n",
       "      <td>Midsize</td>\n",
       "      <td>29.2</td>\n",
       "      <td>33.9</td>\n",
       "      <td>38.7</td>\n",
       "      <td>18</td>\n",
       "      <td>25</td>\n",
       "      <td>Driver &amp; Passenger</td>\n",
       "      <td>Front</td>\n",
       "      <td>6</td>\n",
       "      <td>3.2</td>\n",
       "      <td>200</td>\n",
       "      <td>5500</td>\n",
       "      <td>2335</td>\n",
       "      <td>Yes</td>\n",
       "      <td>18.0</td>\n",
       "      <td>5</td>\n",
       "      <td>195</td>\n",
       "      <td>115</td>\n",
       "      <td>71</td>\n",
       "      <td>38</td>\n",
       "      <td>30.0</td>\n",
       "      <td>15.0</td>\n",
       "      <td>3560</td>\n",
       "      <td>non-USA</td>\n",
       "      <td>Acura Legend</td>\n",
       "    </tr>\n",
       "    <tr>\n",
       "      <th>2</th>\n",
       "      <td>Audi</td>\n",
       "      <td>90</td>\n",
       "      <td>Compact</td>\n",
       "      <td>25.9</td>\n",
       "      <td>29.1</td>\n",
       "      <td>32.3</td>\n",
       "      <td>20</td>\n",
       "      <td>26</td>\n",
       "      <td>Driver only</td>\n",
       "      <td>Front</td>\n",
       "      <td>6</td>\n",
       "      <td>2.8</td>\n",
       "      <td>172</td>\n",
       "      <td>5500</td>\n",
       "      <td>2280</td>\n",
       "      <td>Yes</td>\n",
       "      <td>16.9</td>\n",
       "      <td>5</td>\n",
       "      <td>180</td>\n",
       "      <td>102</td>\n",
       "      <td>67</td>\n",
       "      <td>37</td>\n",
       "      <td>28.0</td>\n",
       "      <td>14.0</td>\n",
       "      <td>3375</td>\n",
       "      <td>non-USA</td>\n",
       "      <td>Audi 90</td>\n",
       "    </tr>\n",
       "    <tr>\n",
       "      <th>3</th>\n",
       "      <td>Audi</td>\n",
       "      <td>100</td>\n",
       "      <td>Midsize</td>\n",
       "      <td>30.8</td>\n",
       "      <td>37.7</td>\n",
       "      <td>44.6</td>\n",
       "      <td>19</td>\n",
       "      <td>26</td>\n",
       "      <td>Driver &amp; Passenger</td>\n",
       "      <td>Front</td>\n",
       "      <td>6</td>\n",
       "      <td>2.8</td>\n",
       "      <td>172</td>\n",
       "      <td>5500</td>\n",
       "      <td>2535</td>\n",
       "      <td>Yes</td>\n",
       "      <td>21.1</td>\n",
       "      <td>6</td>\n",
       "      <td>193</td>\n",
       "      <td>106</td>\n",
       "      <td>70</td>\n",
       "      <td>37</td>\n",
       "      <td>31.0</td>\n",
       "      <td>17.0</td>\n",
       "      <td>3405</td>\n",
       "      <td>non-USA</td>\n",
       "      <td>Audi 100</td>\n",
       "    </tr>\n",
       "    <tr>\n",
       "      <th>4</th>\n",
       "      <td>BMW</td>\n",
       "      <td>535i</td>\n",
       "      <td>Midsize</td>\n",
       "      <td>23.7</td>\n",
       "      <td>30.0</td>\n",
       "      <td>36.2</td>\n",
       "      <td>22</td>\n",
       "      <td>30</td>\n",
       "      <td>Driver only</td>\n",
       "      <td>Rear</td>\n",
       "      <td>4</td>\n",
       "      <td>3.5</td>\n",
       "      <td>208</td>\n",
       "      <td>5700</td>\n",
       "      <td>2545</td>\n",
       "      <td>Yes</td>\n",
       "      <td>21.1</td>\n",
       "      <td>4</td>\n",
       "      <td>186</td>\n",
       "      <td>109</td>\n",
       "      <td>69</td>\n",
       "      <td>39</td>\n",
       "      <td>27.0</td>\n",
       "      <td>13.0</td>\n",
       "      <td>3640</td>\n",
       "      <td>non-USA</td>\n",
       "      <td>BMW 535i</td>\n",
       "    </tr>\n",
       "  </tbody>\n",
       "</table>\n",
       "</div>"
      ],
      "text/plain": [
       "  Manufacturer    Model     Type  Min.Price  Price  Max.Price  MPG.city  \\\n",
       "0        Acura  Integra    Small       12.9   15.9       18.8        25   \n",
       "1        Acura   Legend  Midsize       29.2   33.9       38.7        18   \n",
       "2         Audi       90  Compact       25.9   29.1       32.3        20   \n",
       "3         Audi      100  Midsize       30.8   37.7       44.6        19   \n",
       "4          BMW     535i  Midsize       23.7   30.0       36.2        22   \n",
       "\n",
       "   MPG.highway             AirBags DriveTrain Cylinders  EngineSize  \\\n",
       "0           31                None      Front         4         1.8   \n",
       "1           25  Driver & Passenger      Front         6         3.2   \n",
       "2           26         Driver only      Front         6         2.8   \n",
       "3           26  Driver & Passenger      Front         6         2.8   \n",
       "4           30         Driver only       Rear         4         3.5   \n",
       "\n",
       "   Horsepower   RPM  Rev.per.mile Man.trans.avail  Fuel.tank.capacity  \\\n",
       "0         140  6300          2890             Yes                13.2   \n",
       "1         200  5500          2335             Yes                18.0   \n",
       "2         172  5500          2280             Yes                16.9   \n",
       "3         172  5500          2535             Yes                21.1   \n",
       "4         208  5700          2545             Yes                21.1   \n",
       "\n",
       "   Passengers  Length  Wheelbase  Width  Turn.circle  Rear.seat.room  \\\n",
       "0           5     177        102     68           37            26.5   \n",
       "1           5     195        115     71           38            30.0   \n",
       "2           5     180        102     67           37            28.0   \n",
       "3           6     193        106     70           37            31.0   \n",
       "4           4     186        109     69           39            27.0   \n",
       "\n",
       "   Luggage.room  Weight   Origin           Make  \n",
       "0          11.0    2705  non-USA  Acura Integra  \n",
       "1          15.0    3560  non-USA   Acura Legend  \n",
       "2          14.0    3375  non-USA        Audi 90  \n",
       "3          17.0    3405  non-USA       Audi 100  \n",
       "4          13.0    3640  non-USA       BMW 535i  "
      ]
     },
     "execution_count": 219,
     "metadata": {},
     "output_type": "execute_result"
    }
   ],
   "source": [
    "df = pd.read_csv('car_sales.csv')\n",
    "df.drop('Unnamed: 0',axis=1,inplace=True)\n",
    "df.head()"
   ]
  },
  {
   "cell_type": "markdown",
   "metadata": {},
   "source": [
    "### Lets check the shape."
   ]
  },
  {
   "cell_type": "code",
   "execution_count": 220,
   "metadata": {},
   "outputs": [
    {
     "data": {
      "text/plain": [
       "(93, 27)"
      ]
     },
     "execution_count": 220,
     "metadata": {},
     "output_type": "execute_result"
    }
   ],
   "source": [
    "df.shape"
   ]
  },
  {
   "cell_type": "code",
   "execution_count": 221,
   "metadata": {
    "scrolled": true
   },
   "outputs": [
    {
     "name": "stdout",
     "output_type": "stream",
     "text": [
      "<class 'pandas.core.frame.DataFrame'>\n",
      "RangeIndex: 93 entries, 0 to 92\n",
      "Data columns (total 27 columns):\n",
      " #   Column              Non-Null Count  Dtype  \n",
      "---  ------              --------------  -----  \n",
      " 0   Manufacturer        93 non-null     object \n",
      " 1   Model               93 non-null     object \n",
      " 2   Type                93 non-null     object \n",
      " 3   Min.Price           93 non-null     float64\n",
      " 4   Price               93 non-null     float64\n",
      " 5   Max.Price           93 non-null     float64\n",
      " 6   MPG.city            93 non-null     int64  \n",
      " 7   MPG.highway         93 non-null     int64  \n",
      " 8   AirBags             93 non-null     object \n",
      " 9   DriveTrain          93 non-null     object \n",
      " 10  Cylinders           93 non-null     object \n",
      " 11  EngineSize          93 non-null     float64\n",
      " 12  Horsepower          93 non-null     int64  \n",
      " 13  RPM                 93 non-null     int64  \n",
      " 14  Rev.per.mile        93 non-null     int64  \n",
      " 15  Man.trans.avail     93 non-null     object \n",
      " 16  Fuel.tank.capacity  93 non-null     float64\n",
      " 17  Passengers          93 non-null     int64  \n",
      " 18  Length              93 non-null     int64  \n",
      " 19  Wheelbase           93 non-null     int64  \n",
      " 20  Width               93 non-null     int64  \n",
      " 21  Turn.circle         93 non-null     int64  \n",
      " 22  Rear.seat.room      91 non-null     float64\n",
      " 23  Luggage.room        82 non-null     float64\n",
      " 24  Weight              93 non-null     int64  \n",
      " 25  Origin              93 non-null     object \n",
      " 26  Make                93 non-null     object \n",
      "dtypes: float64(7), int64(11), object(9)\n",
      "memory usage: 19.7+ KB\n"
     ]
    }
   ],
   "source": [
    "df.info()"
   ]
  },
  {
   "cell_type": "code",
   "execution_count": 222,
   "metadata": {},
   "outputs": [
    {
     "data": {
      "text/plain": [
       "<AxesSubplot:>"
      ]
     },
     "execution_count": 222,
     "metadata": {},
     "output_type": "execute_result"
    },
    {
     "data": {
      "image/png": "[encoded data removed]",
      "text/plain": [
       "<Figure size 1296x504 with 2 Axes>"
      ]
     },
     "metadata": {
      "needs_background": "light"
     },
     "output_type": "display_data"
    }
   ],
   "source": [
    "plt.figure(figsize=[18,7])\n",
    "sns.heatmap(df.corr(),annot=True,cmap='viridis')"
   ]
  },
  {
   "cell_type": "markdown",
   "metadata": {},
   "source": [
    "### Multivariate Analysis."
   ]
  },
  {
   "cell_type": "code",
   "execution_count": 223,
   "metadata": {},
   "outputs": [
    {
     "data": {
      "text/plain": [
       "<AxesSubplot:xlabel='Passengers', ylabel='Price'>"
      ]
     },
     "execution_count": 223,
     "metadata": {},
     "output_type": "execute_result"
    },
    {
     "data": {
      "image/png": "[encoded data removed]",
      "text/plain": [
       "<Figure size 432x288 with 1 Axes>"
      ]
     },
     "metadata": {
      "needs_background": "light"
     },
     "output_type": "display_data"
    }
   ],
   "source": [
    "sns.boxplot(y=df['Price'],x=df['Passengers'])"
   ]
  },
  {
   "cell_type": "code",
   "execution_count": 224,
   "metadata": {},
   "outputs": [
    {
     "data": {
      "text/plain": [
       "<AxesSubplot:xlabel='Cylinders', ylabel='Price'>"
      ]
     },
     "execution_count": 224,
     "metadata": {},
     "output_type": "execute_result"
    },
    {
     "data": {
      "image/png": "[encoded data removed]",
      "text/plain": [
       "<Figure size 432x288 with 1 Axes>"
      ]
     },
     "metadata": {
      "needs_background": "light"
     },
     "output_type": "display_data"
    }
   ],
   "source": [
    "sns.boxplot(df['Cylinders'],df['Price'])"
   ]
  },
  {
   "cell_type": "code",
   "execution_count": 225,
   "metadata": {},
   "outputs": [
    {
     "data": {
      "text/plain": [
       "<AxesSubplot:xlabel='Origin', ylabel='Price'>"
      ]
     },
     "execution_count": 225,
     "metadata": {},
     "output_type": "execute_result"
    },
    {
     "data": {
      "image/png": "[encoded data removed]",
      "text/plain": [
       "<Figure size 432x288 with 1 Axes>"
      ]
     },
     "metadata": {
      "needs_background": "light"
     },
     "output_type": "display_data"
    }
   ],
   "source": [
    "sns.boxplot(df['Origin'],df['Price'])"
   ]
  },
  {
   "cell_type": "code",
   "execution_count": 226,
   "metadata": {},
   "outputs": [
    {
     "data": {
      "text/plain": [
       "<AxesSubplot:xlabel='AirBags', ylabel='Price'>"
      ]
     },
     "execution_count": 226,
     "metadata": {},
     "output_type": "execute_result"
    },
    {
     "data": {
      "image/png": "[encoded data removed]",
      "text/plain": [
       "<Figure size 432x288 with 1 Axes>"
      ]
     },
     "metadata": {
      "needs_background": "light"
     },
     "output_type": "display_data"
    }
   ],
   "source": [
    "sns.boxplot(df['AirBags'],df['Price'])"
   ]
  },
  {
   "cell_type": "code",
   "execution_count": 227,
   "metadata": {},
   "outputs": [
    {
     "data": {
      "text/plain": [
       "<AxesSubplot:xlabel='Man.trans.avail', ylabel='Price'>"
      ]
     },
     "execution_count": 227,
     "metadata": {},
     "output_type": "execute_result"
    },
    {
     "data": {
      "image/png": "[encoded data removed]",
      "text/plain": [
       "<Figure size 432x288 with 1 Axes>"
      ]
     },
     "metadata": {
      "needs_background": "light"
     },
     "output_type": "display_data"
    }
   ],
   "source": [
    "sns.boxplot(df['Man.trans.avail'],df['Price'])"
   ]
  },
  {
   "cell_type": "code",
   "execution_count": 228,
   "metadata": {},
   "outputs": [
    {
     "data": {
      "text/plain": [
       "<AxesSubplot:xlabel='DriveTrain', ylabel='Price'>"
      ]
     },
     "execution_count": 228,
     "metadata": {},
     "output_type": "execute_result"
    },
    {
     "data": {
      "image/png": "[encoded data removed]",
      "text/plain": [
       "<Figure size 432x288 with 1 Axes>"
      ]
     },
     "metadata": {
      "needs_background": "light"
     },
     "output_type": "display_data"
    }
   ],
   "source": [
    "sns.boxplot(df['DriveTrain'],df['Price'])"
   ]
  },
  {
   "cell_type": "markdown",
   "metadata": {},
   "source": [
    "### `Null value Imputation key points.`\n",
    "- *Bigdata (10K to 100K) - method(dropna).*\n",
    "- *Dataset size(500-2000)upto 5-10% of size of n - method(Median Imputation or random sampling.)*\n",
    "- *Dataset around 1000, 10-20% of records is missing = method(KNN IMPUTER).*"
   ]
  },
  {
   "cell_type": "code",
   "execution_count": 229,
   "metadata": {
    "scrolled": true
   },
   "outputs": [
    {
     "data": {
      "text/plain": [
       "Manufacturer           0.000000\n",
       "Model                  0.000000\n",
       "Type                   0.000000\n",
       "Min.Price              0.000000\n",
       "Price                  0.000000\n",
       "Max.Price              0.000000\n",
       "MPG.city               0.000000\n",
       "MPG.highway            0.000000\n",
       "AirBags                0.000000\n",
       "DriveTrain             0.000000\n",
       "Cylinders              0.000000\n",
       "EngineSize             0.000000\n",
       "Horsepower             0.000000\n",
       "RPM                    0.000000\n",
       "Rev.per.mile           0.000000\n",
       "Man.trans.avail        0.000000\n",
       "Fuel.tank.capacity     0.000000\n",
       "Passengers             0.000000\n",
       "Length                 0.000000\n",
       "Wheelbase              0.000000\n",
       "Width                  0.000000\n",
       "Turn.circle            0.000000\n",
       "Rear.seat.room         2.150538\n",
       "Luggage.room          11.827957\n",
       "Weight                 0.000000\n",
       "Origin                 0.000000\n",
       "Make                   0.000000\n",
       "dtype: float64"
      ]
     },
     "execution_count": 229,
     "metadata": {},
     "output_type": "execute_result"
    }
   ],
   "source": [
    "(df.isnull().sum()/len(df))*100"
   ]
  },
  {
   "cell_type": "code",
   "execution_count": 230,
   "metadata": {},
   "outputs": [],
   "source": [
    "## Lets treat the null values using KNN Imputer.\n",
    "from sklearn.impute import KNNImputer\n",
    "imp = KNNImputer(n_neighbors=3)\n",
    "\n",
    "df.iloc[:,22:24] = imp.fit_transform(df.iloc[:,22:24])"
   ]
  },
  {
   "cell_type": "code",
   "execution_count": 231,
   "metadata": {
    "scrolled": true
   },
   "outputs": [
    {
     "data": {
      "text/plain": [
       "Manufacturer          0\n",
       "Model                 0\n",
       "Type                  0\n",
       "Min.Price             0\n",
       "Price                 0\n",
       "Max.Price             0\n",
       "MPG.city              0\n",
       "MPG.highway           0\n",
       "AirBags               0\n",
       "DriveTrain            0\n",
       "Cylinders             0\n",
       "EngineSize            0\n",
       "Horsepower            0\n",
       "RPM                   0\n",
       "Rev.per.mile          0\n",
       "Man.trans.avail       0\n",
       "Fuel.tank.capacity    0\n",
       "Passengers            0\n",
       "Length                0\n",
       "Wheelbase             0\n",
       "Width                 0\n",
       "Turn.circle           0\n",
       "Rear.seat.room        0\n",
       "Luggage.room          0\n",
       "Weight                0\n",
       "Origin                0\n",
       "Make                  0\n",
       "dtype: int64"
      ]
     },
     "execution_count": 231,
     "metadata": {},
     "output_type": "execute_result"
    }
   ],
   "source": [
    "df.isnull().sum()"
   ]
  },
  {
   "cell_type": "markdown",
   "metadata": {},
   "source": [
    "### `Note:` Dropping the unwanted columns based on the business understanding."
   ]
  },
  {
   "cell_type": "code",
   "execution_count": 232,
   "metadata": {},
   "outputs": [
    {
     "data": {
      "text/plain": [
       "array([5, 6, 4, 7, 8, 2], dtype=int64)"
      ]
     },
     "execution_count": 232,
     "metadata": {},
     "output_type": "execute_result"
    }
   ],
   "source": [
    "df['Passengers'].unique()"
   ]
  },
  {
   "cell_type": "code",
   "execution_count": 233,
   "metadata": {},
   "outputs": [],
   "source": [
    "df['Passengers'] = df['Passengers'].astype(object)"
   ]
  },
  {
   "cell_type": "code",
   "execution_count": 234,
   "metadata": {},
   "outputs": [
    {
     "data": {
      "text/html": [
       "<div>\n",
       "<style scoped>\n",
       "    .dataframe tbody tr th:only-of-type {\n",
       "        vertical-align: middle;\n",
       "    }\n",
       "\n",
       "    .dataframe tbody tr th {\n",
       "        vertical-align: top;\n",
       "    }\n",
       "\n",
       "    .dataframe thead th {\n",
       "        text-align: right;\n",
       "    }\n",
       "</style>\n",
       "<table border=\"1\" class=\"dataframe\">\n",
       "  <thead>\n",
       "    <tr style=\"text-align: right;\">\n",
       "      <th></th>\n",
       "      <th>Type</th>\n",
       "      <th>Price</th>\n",
       "      <th>MPG.city</th>\n",
       "      <th>MPG.highway</th>\n",
       "      <th>AirBags</th>\n",
       "      <th>DriveTrain</th>\n",
       "      <th>Cylinders</th>\n",
       "      <th>EngineSize</th>\n",
       "      <th>Horsepower</th>\n",
       "      <th>RPM</th>\n",
       "      <th>Rev.per.mile</th>\n",
       "      <th>Man.trans.avail</th>\n",
       "      <th>Fuel.tank.capacity</th>\n",
       "      <th>Passengers</th>\n",
       "      <th>Length</th>\n",
       "      <th>Wheelbase</th>\n",
       "      <th>Width</th>\n",
       "      <th>Turn.circle</th>\n",
       "      <th>Rear.seat.room</th>\n",
       "      <th>Luggage.room</th>\n",
       "      <th>Weight</th>\n",
       "      <th>Origin</th>\n",
       "    </tr>\n",
       "  </thead>\n",
       "  <tbody>\n",
       "    <tr>\n",
       "      <th>0</th>\n",
       "      <td>Small</td>\n",
       "      <td>15.9</td>\n",
       "      <td>25</td>\n",
       "      <td>31</td>\n",
       "      <td>None</td>\n",
       "      <td>Front</td>\n",
       "      <td>4</td>\n",
       "      <td>1.8</td>\n",
       "      <td>140</td>\n",
       "      <td>6300</td>\n",
       "      <td>2890</td>\n",
       "      <td>Yes</td>\n",
       "      <td>13.2</td>\n",
       "      <td>5</td>\n",
       "      <td>177</td>\n",
       "      <td>102</td>\n",
       "      <td>68</td>\n",
       "      <td>37</td>\n",
       "      <td>26.5</td>\n",
       "      <td>11.0</td>\n",
       "      <td>2705</td>\n",
       "      <td>non-USA</td>\n",
       "    </tr>\n",
       "    <tr>\n",
       "      <th>1</th>\n",
       "      <td>Midsize</td>\n",
       "      <td>33.9</td>\n",
       "      <td>18</td>\n",
       "      <td>25</td>\n",
       "      <td>Driver &amp; Passenger</td>\n",
       "      <td>Front</td>\n",
       "      <td>6</td>\n",
       "      <td>3.2</td>\n",
       "      <td>200</td>\n",
       "      <td>5500</td>\n",
       "      <td>2335</td>\n",
       "      <td>Yes</td>\n",
       "      <td>18.0</td>\n",
       "      <td>5</td>\n",
       "      <td>195</td>\n",
       "      <td>115</td>\n",
       "      <td>71</td>\n",
       "      <td>38</td>\n",
       "      <td>30.0</td>\n",
       "      <td>15.0</td>\n",
       "      <td>3560</td>\n",
       "      <td>non-USA</td>\n",
       "    </tr>\n",
       "    <tr>\n",
       "      <th>2</th>\n",
       "      <td>Compact</td>\n",
       "      <td>29.1</td>\n",
       "      <td>20</td>\n",
       "      <td>26</td>\n",
       "      <td>Driver only</td>\n",
       "      <td>Front</td>\n",
       "      <td>6</td>\n",
       "      <td>2.8</td>\n",
       "      <td>172</td>\n",
       "      <td>5500</td>\n",
       "      <td>2280</td>\n",
       "      <td>Yes</td>\n",
       "      <td>16.9</td>\n",
       "      <td>5</td>\n",
       "      <td>180</td>\n",
       "      <td>102</td>\n",
       "      <td>67</td>\n",
       "      <td>37</td>\n",
       "      <td>28.0</td>\n",
       "      <td>14.0</td>\n",
       "      <td>3375</td>\n",
       "      <td>non-USA</td>\n",
       "    </tr>\n",
       "    <tr>\n",
       "      <th>3</th>\n",
       "      <td>Midsize</td>\n",
       "      <td>37.7</td>\n",
       "      <td>19</td>\n",
       "      <td>26</td>\n",
       "      <td>Driver &amp; Passenger</td>\n",
       "      <td>Front</td>\n",
       "      <td>6</td>\n",
       "      <td>2.8</td>\n",
       "      <td>172</td>\n",
       "      <td>5500</td>\n",
       "      <td>2535</td>\n",
       "      <td>Yes</td>\n",
       "      <td>21.1</td>\n",
       "      <td>6</td>\n",
       "      <td>193</td>\n",
       "      <td>106</td>\n",
       "      <td>70</td>\n",
       "      <td>37</td>\n",
       "      <td>31.0</td>\n",
       "      <td>17.0</td>\n",
       "      <td>3405</td>\n",
       "      <td>non-USA</td>\n",
       "    </tr>\n",
       "    <tr>\n",
       "      <th>4</th>\n",
       "      <td>Midsize</td>\n",
       "      <td>30.0</td>\n",
       "      <td>22</td>\n",
       "      <td>30</td>\n",
       "      <td>Driver only</td>\n",
       "      <td>Rear</td>\n",
       "      <td>4</td>\n",
       "      <td>3.5</td>\n",
       "      <td>208</td>\n",
       "      <td>5700</td>\n",
       "      <td>2545</td>\n",
       "      <td>Yes</td>\n",
       "      <td>21.1</td>\n",
       "      <td>4</td>\n",
       "      <td>186</td>\n",
       "      <td>109</td>\n",
       "      <td>69</td>\n",
       "      <td>39</td>\n",
       "      <td>27.0</td>\n",
       "      <td>13.0</td>\n",
       "      <td>3640</td>\n",
       "      <td>non-USA</td>\n",
       "    </tr>\n",
       "  </tbody>\n",
       "</table>\n",
       "</div>"
      ],
      "text/plain": [
       "      Type  Price  MPG.city  MPG.highway             AirBags DriveTrain  \\\n",
       "0    Small   15.9        25           31                None      Front   \n",
       "1  Midsize   33.9        18           25  Driver & Passenger      Front   \n",
       "2  Compact   29.1        20           26         Driver only      Front   \n",
       "3  Midsize   37.7        19           26  Driver & Passenger      Front   \n",
       "4  Midsize   30.0        22           30         Driver only       Rear   \n",
       "\n",
       "  Cylinders  EngineSize  Horsepower   RPM  Rev.per.mile Man.trans.avail  \\\n",
       "0         4         1.8         140  6300          2890             Yes   \n",
       "1         6         3.2         200  5500          2335             Yes   \n",
       "2         6         2.8         172  5500          2280             Yes   \n",
       "3         6         2.8         172  5500          2535             Yes   \n",
       "4         4         3.5         208  5700          2545             Yes   \n",
       "\n",
       "   Fuel.tank.capacity Passengers  Length  Wheelbase  Width  Turn.circle  \\\n",
       "0                13.2          5     177        102     68           37   \n",
       "1                18.0          5     195        115     71           38   \n",
       "2                16.9          5     180        102     67           37   \n",
       "3                21.1          6     193        106     70           37   \n",
       "4                21.1          4     186        109     69           39   \n",
       "\n",
       "   Rear.seat.room  Luggage.room  Weight   Origin  \n",
       "0            26.5          11.0    2705  non-USA  \n",
       "1            30.0          15.0    3560  non-USA  \n",
       "2            28.0          14.0    3375  non-USA  \n",
       "3            31.0          17.0    3405  non-USA  \n",
       "4            27.0          13.0    3640  non-USA  "
      ]
     },
     "execution_count": 234,
     "metadata": {},
     "output_type": "execute_result"
    }
   ],
   "source": [
    "X = df.drop(['Manufacturer','Model','Min.Price','Max.Price','Make'],axis=1)\n",
    "X.head()"
   ]
  },
  {
   "cell_type": "code",
   "execution_count": 235,
   "metadata": {},
   "outputs": [
    {
     "data": {
      "text/html": [
       "<div>\n",
       "<style scoped>\n",
       "    .dataframe tbody tr th:only-of-type {\n",
       "        vertical-align: middle;\n",
       "    }\n",
       "\n",
       "    .dataframe tbody tr th {\n",
       "        vertical-align: top;\n",
       "    }\n",
       "\n",
       "    .dataframe thead th {\n",
       "        text-align: right;\n",
       "    }\n",
       "</style>\n",
       "<table border=\"1\" class=\"dataframe\">\n",
       "  <thead>\n",
       "    <tr style=\"text-align: right;\">\n",
       "      <th></th>\n",
       "      <th>Price</th>\n",
       "      <th>MPG.city</th>\n",
       "      <th>MPG.highway</th>\n",
       "      <th>EngineSize</th>\n",
       "      <th>Horsepower</th>\n",
       "      <th>RPM</th>\n",
       "      <th>Rev.per.mile</th>\n",
       "      <th>Fuel.tank.capacity</th>\n",
       "      <th>Length</th>\n",
       "      <th>Wheelbase</th>\n",
       "      <th>Width</th>\n",
       "      <th>Turn.circle</th>\n",
       "      <th>Rear.seat.room</th>\n",
       "      <th>Luggage.room</th>\n",
       "      <th>Weight</th>\n",
       "      <th>Type_Large</th>\n",
       "      <th>Type_Midsize</th>\n",
       "      <th>Type_Small</th>\n",
       "      <th>Type_Sporty</th>\n",
       "      <th>Type_Van</th>\n",
       "      <th>AirBags_Driver only</th>\n",
       "      <th>AirBags_None</th>\n",
       "      <th>DriveTrain_Front</th>\n",
       "      <th>DriveTrain_Rear</th>\n",
       "      <th>Cylinders_4</th>\n",
       "      <th>Cylinders_5</th>\n",
       "      <th>Cylinders_6</th>\n",
       "      <th>Cylinders_8</th>\n",
       "      <th>Cylinders_rotary</th>\n",
       "      <th>Man.trans.avail_Yes</th>\n",
       "      <th>Passengers_4</th>\n",
       "      <th>Passengers_5</th>\n",
       "      <th>Passengers_6</th>\n",
       "      <th>Passengers_7</th>\n",
       "      <th>Passengers_8</th>\n",
       "      <th>Origin_non-USA</th>\n",
       "    </tr>\n",
       "  </thead>\n",
       "  <tbody>\n",
       "    <tr>\n",
       "      <th>0</th>\n",
       "      <td>15.9</td>\n",
       "      <td>25</td>\n",
       "      <td>31</td>\n",
       "      <td>1.8</td>\n",
       "      <td>140</td>\n",
       "      <td>6300</td>\n",
       "      <td>2890</td>\n",
       "      <td>13.2</td>\n",
       "      <td>177</td>\n",
       "      <td>102</td>\n",
       "      <td>68</td>\n",
       "      <td>37</td>\n",
       "      <td>26.5</td>\n",
       "      <td>11.0</td>\n",
       "      <td>2705</td>\n",
       "      <td>0</td>\n",
       "      <td>0</td>\n",
       "      <td>1</td>\n",
       "      <td>0</td>\n",
       "      <td>0</td>\n",
       "      <td>0</td>\n",
       "      <td>1</td>\n",
       "      <td>1</td>\n",
       "      <td>0</td>\n",
       "      <td>1</td>\n",
       "      <td>0</td>\n",
       "      <td>0</td>\n",
       "      <td>0</td>\n",
       "      <td>0</td>\n",
       "      <td>1</td>\n",
       "      <td>0</td>\n",
       "      <td>1</td>\n",
       "      <td>0</td>\n",
       "      <td>0</td>\n",
       "      <td>0</td>\n",
       "      <td>1</td>\n",
       "    </tr>\n",
       "    <tr>\n",
       "      <th>1</th>\n",
       "      <td>33.9</td>\n",
       "      <td>18</td>\n",
       "      <td>25</td>\n",
       "      <td>3.2</td>\n",
       "      <td>200</td>\n",
       "      <td>5500</td>\n",
       "      <td>2335</td>\n",
       "      <td>18.0</td>\n",
       "      <td>195</td>\n",
       "      <td>115</td>\n",
       "      <td>71</td>\n",
       "      <td>38</td>\n",
       "      <td>30.0</td>\n",
       "      <td>15.0</td>\n",
       "      <td>3560</td>\n",
       "      <td>0</td>\n",
       "      <td>1</td>\n",
       "      <td>0</td>\n",
       "      <td>0</td>\n",
       "      <td>0</td>\n",
       "      <td>0</td>\n",
       "      <td>0</td>\n",
       "      <td>1</td>\n",
       "      <td>0</td>\n",
       "      <td>0</td>\n",
       "      <td>0</td>\n",
       "      <td>1</td>\n",
       "      <td>0</td>\n",
       "      <td>0</td>\n",
       "      <td>1</td>\n",
       "      <td>0</td>\n",
       "      <td>1</td>\n",
       "      <td>0</td>\n",
       "      <td>0</td>\n",
       "      <td>0</td>\n",
       "      <td>1</td>\n",
       "    </tr>\n",
       "    <tr>\n",
       "      <th>2</th>\n",
       "      <td>29.1</td>\n",
       "      <td>20</td>\n",
       "      <td>26</td>\n",
       "      <td>2.8</td>\n",
       "      <td>172</td>\n",
       "      <td>5500</td>\n",
       "      <td>2280</td>\n",
       "      <td>16.9</td>\n",
       "      <td>180</td>\n",
       "      <td>102</td>\n",
       "      <td>67</td>\n",
       "      <td>37</td>\n",
       "      <td>28.0</td>\n",
       "      <td>14.0</td>\n",
       "      <td>3375</td>\n",
       "      <td>0</td>\n",
       "      <td>0</td>\n",
       "      <td>0</td>\n",
       "      <td>0</td>\n",
       "      <td>0</td>\n",
       "      <td>1</td>\n",
       "      <td>0</td>\n",
       "      <td>1</td>\n",
       "      <td>0</td>\n",
       "      <td>0</td>\n",
       "      <td>0</td>\n",
       "      <td>1</td>\n",
       "      <td>0</td>\n",
       "      <td>0</td>\n",
       "      <td>1</td>\n",
       "      <td>0</td>\n",
       "      <td>1</td>\n",
       "      <td>0</td>\n",
       "      <td>0</td>\n",
       "      <td>0</td>\n",
       "      <td>1</td>\n",
       "    </tr>\n",
       "    <tr>\n",
       "      <th>3</th>\n",
       "      <td>37.7</td>\n",
       "      <td>19</td>\n",
       "      <td>26</td>\n",
       "      <td>2.8</td>\n",
       "      <td>172</td>\n",
       "      <td>5500</td>\n",
       "      <td>2535</td>\n",
       "      <td>21.1</td>\n",
       "      <td>193</td>\n",
       "      <td>106</td>\n",
       "      <td>70</td>\n",
       "      <td>37</td>\n",
       "      <td>31.0</td>\n",
       "      <td>17.0</td>\n",
       "      <td>3405</td>\n",
       "      <td>0</td>\n",
       "      <td>1</td>\n",
       "      <td>0</td>\n",
       "      <td>0</td>\n",
       "      <td>0</td>\n",
       "      <td>0</td>\n",
       "      <td>0</td>\n",
       "      <td>1</td>\n",
       "      <td>0</td>\n",
       "      <td>0</td>\n",
       "      <td>0</td>\n",
       "      <td>1</td>\n",
       "      <td>0</td>\n",
       "      <td>0</td>\n",
       "      <td>1</td>\n",
       "      <td>0</td>\n",
       "      <td>0</td>\n",
       "      <td>1</td>\n",
       "      <td>0</td>\n",
       "      <td>0</td>\n",
       "      <td>1</td>\n",
       "    </tr>\n",
       "    <tr>\n",
       "      <th>4</th>\n",
       "      <td>30.0</td>\n",
       "      <td>22</td>\n",
       "      <td>30</td>\n",
       "      <td>3.5</td>\n",
       "      <td>208</td>\n",
       "      <td>5700</td>\n",
       "      <td>2545</td>\n",
       "      <td>21.1</td>\n",
       "      <td>186</td>\n",
       "      <td>109</td>\n",
       "      <td>69</td>\n",
       "      <td>39</td>\n",
       "      <td>27.0</td>\n",
       "      <td>13.0</td>\n",
       "      <td>3640</td>\n",
       "      <td>0</td>\n",
       "      <td>1</td>\n",
       "      <td>0</td>\n",
       "      <td>0</td>\n",
       "      <td>0</td>\n",
       "      <td>1</td>\n",
       "      <td>0</td>\n",
       "      <td>0</td>\n",
       "      <td>1</td>\n",
       "      <td>1</td>\n",
       "      <td>0</td>\n",
       "      <td>0</td>\n",
       "      <td>0</td>\n",
       "      <td>0</td>\n",
       "      <td>1</td>\n",
       "      <td>1</td>\n",
       "      <td>0</td>\n",
       "      <td>0</td>\n",
       "      <td>0</td>\n",
       "      <td>0</td>\n",
       "      <td>1</td>\n",
       "    </tr>\n",
       "  </tbody>\n",
       "</table>\n",
       "</div>"
      ],
      "text/plain": [
       "   Price  MPG.city  MPG.highway  EngineSize  Horsepower   RPM  Rev.per.mile  \\\n",
       "0   15.9        25           31         1.8         140  6300          2890   \n",
       "1   33.9        18           25         3.2         200  5500          2335   \n",
       "2   29.1        20           26         2.8         172  5500          2280   \n",
       "3   37.7        19           26         2.8         172  5500          2535   \n",
       "4   30.0        22           30         3.5         208  5700          2545   \n",
       "\n",
       "   Fuel.tank.capacity  Length  Wheelbase  Width  Turn.circle  Rear.seat.room  \\\n",
       "0                13.2     177        102     68           37            26.5   \n",
       "1                18.0     195        115     71           38            30.0   \n",
       "2                16.9     180        102     67           37            28.0   \n",
       "3                21.1     193        106     70           37            31.0   \n",
       "4                21.1     186        109     69           39            27.0   \n",
       "\n",
       "   Luggage.room  Weight  Type_Large  Type_Midsize  Type_Small  Type_Sporty  \\\n",
       "0          11.0    2705           0             0           1            0   \n",
       "1          15.0    3560           0             1           0            0   \n",
       "2          14.0    3375           0             0           0            0   \n",
       "3          17.0    3405           0             1           0            0   \n",
       "4          13.0    3640           0             1           0            0   \n",
       "\n",
       "   Type_Van  AirBags_Driver only  AirBags_None  DriveTrain_Front  \\\n",
       "0         0                    0             1                 1   \n",
       "1         0                    0             0                 1   \n",
       "2         0                    1             0                 1   \n",
       "3         0                    0             0                 1   \n",
       "4         0                    1             0                 0   \n",
       "\n",
       "   DriveTrain_Rear  Cylinders_4  Cylinders_5  Cylinders_6  Cylinders_8  \\\n",
       "0                0            1            0            0            0   \n",
       "1                0            0            0            1            0   \n",
       "2                0            0            0            1            0   \n",
       "3                0            0            0            1            0   \n",
       "4                1            1            0            0            0   \n",
       "\n",
       "   Cylinders_rotary  Man.trans.avail_Yes  Passengers_4  Passengers_5  \\\n",
       "0                 0                    1             0             1   \n",
       "1                 0                    1             0             1   \n",
       "2                 0                    1             0             1   \n",
       "3                 0                    1             0             0   \n",
       "4                 0                    1             1             0   \n",
       "\n",
       "   Passengers_6  Passengers_7  Passengers_8  Origin_non-USA  \n",
       "0             0             0             0               1  \n",
       "1             0             0             0               1  \n",
       "2             0             0             0               1  \n",
       "3             1             0             0               1  \n",
       "4             0             0             0               1  "
      ]
     },
     "execution_count": 235,
     "metadata": {},
     "output_type": "execute_result"
    }
   ],
   "source": [
    "### Creating dummy columns to categorical variables.\n",
    "X = pd.get_dummies(data=X,drop_first=True)\n",
    "X.head()"
   ]
  },
  {
   "cell_type": "code",
   "execution_count": null,
   "metadata": {},
   "outputs": [],
   "source": [
    "\n",
    "\n"
   ]
  },
  {
   "cell_type": "markdown",
   "metadata": {},
   "source": [
    "### Lets build an Linear Regression model."
   ]
  },
  {
   "cell_type": "code",
   "execution_count": 236,
   "metadata": {},
   "outputs": [],
   "source": [
    "df = X"
   ]
  },
  {
   "cell_type": "code",
   "execution_count": 237,
   "metadata": {},
   "outputs": [],
   "source": [
    "X = df.drop('Price',axis=1)\n",
    "y = df['Price']"
   ]
  },
  {
   "cell_type": "code",
   "execution_count": 238,
   "metadata": {},
   "outputs": [
    {
     "data": {
      "text/html": [
       "<div>\n",
       "<style scoped>\n",
       "    .dataframe tbody tr th:only-of-type {\n",
       "        vertical-align: middle;\n",
       "    }\n",
       "\n",
       "    .dataframe tbody tr th {\n",
       "        vertical-align: top;\n",
       "    }\n",
       "\n",
       "    .dataframe thead th {\n",
       "        text-align: right;\n",
       "    }\n",
       "</style>\n",
       "<table border=\"1\" class=\"dataframe\">\n",
       "  <thead>\n",
       "    <tr style=\"text-align: right;\">\n",
       "      <th></th>\n",
       "      <th>const</th>\n",
       "      <th>MPG.city</th>\n",
       "      <th>MPG.highway</th>\n",
       "      <th>EngineSize</th>\n",
       "      <th>Horsepower</th>\n",
       "      <th>RPM</th>\n",
       "      <th>Rev.per.mile</th>\n",
       "      <th>Fuel.tank.capacity</th>\n",
       "      <th>Length</th>\n",
       "      <th>Wheelbase</th>\n",
       "      <th>Width</th>\n",
       "      <th>Turn.circle</th>\n",
       "      <th>Rear.seat.room</th>\n",
       "      <th>Luggage.room</th>\n",
       "      <th>Weight</th>\n",
       "      <th>Type_Large</th>\n",
       "      <th>Type_Midsize</th>\n",
       "      <th>Type_Small</th>\n",
       "      <th>Type_Sporty</th>\n",
       "      <th>Type_Van</th>\n",
       "      <th>AirBags_Driver only</th>\n",
       "      <th>AirBags_None</th>\n",
       "      <th>DriveTrain_Front</th>\n",
       "      <th>DriveTrain_Rear</th>\n",
       "      <th>Cylinders_4</th>\n",
       "      <th>Cylinders_5</th>\n",
       "      <th>Cylinders_6</th>\n",
       "      <th>Cylinders_8</th>\n",
       "      <th>Cylinders_rotary</th>\n",
       "      <th>Man.trans.avail_Yes</th>\n",
       "      <th>Passengers_4</th>\n",
       "      <th>Passengers_5</th>\n",
       "      <th>Passengers_6</th>\n",
       "      <th>Passengers_7</th>\n",
       "      <th>Passengers_8</th>\n",
       "      <th>Origin_non-USA</th>\n",
       "    </tr>\n",
       "  </thead>\n",
       "  <tbody>\n",
       "    <tr>\n",
       "      <th>0</th>\n",
       "      <td>1.0</td>\n",
       "      <td>25</td>\n",
       "      <td>31</td>\n",
       "      <td>1.8</td>\n",
       "      <td>140</td>\n",
       "      <td>6300</td>\n",
       "      <td>2890</td>\n",
       "      <td>13.2</td>\n",
       "      <td>177</td>\n",
       "      <td>102</td>\n",
       "      <td>68</td>\n",
       "      <td>37</td>\n",
       "      <td>26.5</td>\n",
       "      <td>11.0</td>\n",
       "      <td>2705</td>\n",
       "      <td>0</td>\n",
       "      <td>0</td>\n",
       "      <td>1</td>\n",
       "      <td>0</td>\n",
       "      <td>0</td>\n",
       "      <td>0</td>\n",
       "      <td>1</td>\n",
       "      <td>1</td>\n",
       "      <td>0</td>\n",
       "      <td>1</td>\n",
       "      <td>0</td>\n",
       "      <td>0</td>\n",
       "      <td>0</td>\n",
       "      <td>0</td>\n",
       "      <td>1</td>\n",
       "      <td>0</td>\n",
       "      <td>1</td>\n",
       "      <td>0</td>\n",
       "      <td>0</td>\n",
       "      <td>0</td>\n",
       "      <td>1</td>\n",
       "    </tr>\n",
       "    <tr>\n",
       "      <th>1</th>\n",
       "      <td>1.0</td>\n",
       "      <td>18</td>\n",
       "      <td>25</td>\n",
       "      <td>3.2</td>\n",
       "      <td>200</td>\n",
       "      <td>5500</td>\n",
       "      <td>2335</td>\n",
       "      <td>18.0</td>\n",
       "      <td>195</td>\n",
       "      <td>115</td>\n",
       "      <td>71</td>\n",
       "      <td>38</td>\n",
       "      <td>30.0</td>\n",
       "      <td>15.0</td>\n",
       "      <td>3560</td>\n",
       "      <td>0</td>\n",
       "      <td>1</td>\n",
       "      <td>0</td>\n",
       "      <td>0</td>\n",
       "      <td>0</td>\n",
       "      <td>0</td>\n",
       "      <td>0</td>\n",
       "      <td>1</td>\n",
       "      <td>0</td>\n",
       "      <td>0</td>\n",
       "      <td>0</td>\n",
       "      <td>1</td>\n",
       "      <td>0</td>\n",
       "      <td>0</td>\n",
       "      <td>1</td>\n",
       "      <td>0</td>\n",
       "      <td>1</td>\n",
       "      <td>0</td>\n",
       "      <td>0</td>\n",
       "      <td>0</td>\n",
       "      <td>1</td>\n",
       "    </tr>\n",
       "  </tbody>\n",
       "</table>\n",
       "</div>"
      ],
      "text/plain": [
       "   const  MPG.city  MPG.highway  EngineSize  Horsepower   RPM  Rev.per.mile  \\\n",
       "0    1.0        25           31         1.8         140  6300          2890   \n",
       "1    1.0        18           25         3.2         200  5500          2335   \n",
       "\n",
       "   Fuel.tank.capacity  Length  Wheelbase  Width  Turn.circle  Rear.seat.room  \\\n",
       "0                13.2     177        102     68           37            26.5   \n",
       "1                18.0     195        115     71           38            30.0   \n",
       "\n",
       "   Luggage.room  Weight  Type_Large  Type_Midsize  Type_Small  Type_Sporty  \\\n",
       "0          11.0    2705           0             0           1            0   \n",
       "1          15.0    3560           0             1           0            0   \n",
       "\n",
       "   Type_Van  AirBags_Driver only  AirBags_None  DriveTrain_Front  \\\n",
       "0         0                    0             1                 1   \n",
       "1         0                    0             0                 1   \n",
       "\n",
       "   DriveTrain_Rear  Cylinders_4  Cylinders_5  Cylinders_6  Cylinders_8  \\\n",
       "0                0            1            0            0            0   \n",
       "1                0            0            0            1            0   \n",
       "\n",
       "   Cylinders_rotary  Man.trans.avail_Yes  Passengers_4  Passengers_5  \\\n",
       "0                 0                    1             0             1   \n",
       "1                 0                    1             0             1   \n",
       "\n",
       "   Passengers_6  Passengers_7  Passengers_8  Origin_non-USA  \n",
       "0             0             0             0               1  \n",
       "1             0             0             0               1  "
      ]
     },
     "execution_count": 238,
     "metadata": {},
     "output_type": "execute_result"
    }
   ],
   "source": [
    "Xc = sm.add_constant(X)\n",
    "Xc.head(2)"
   ]
  },
  {
   "cell_type": "code",
   "execution_count": 239,
   "metadata": {
    "scrolled": true
   },
   "outputs": [
    {
     "data": {
      "text/html": [
       "<table class=\"simpletable\">\n",
       "<caption>OLS Regression Results</caption>\n",
       "<tr>\n",
       "  <th>Dep. Variable:</th>          <td>Price</td>      <th>  R-squared:         </th> <td>   0.855</td>\n",
       "</tr>\n",
       "<tr>\n",
       "  <th>Model:</th>                   <td>OLS</td>       <th>  Adj. R-squared:    </th> <td>   0.771</td>\n",
       "</tr>\n",
       "<tr>\n",
       "  <th>Method:</th>             <td>Least Squares</td>  <th>  F-statistic:       </th> <td>   10.09</td>\n",
       "</tr>\n",
       "<tr>\n",
       "  <th>Date:</th>             <td>Thu, 22 Jul 2021</td> <th>  Prob (F-statistic):</th> <td>2.56e-14</td>\n",
       "</tr>\n",
       "<tr>\n",
       "  <th>Time:</th>                 <td>12:38:01</td>     <th>  Log-Likelihood:    </th> <td> -252.44</td>\n",
       "</tr>\n",
       "<tr>\n",
       "  <th>No. Observations:</th>      <td>    93</td>      <th>  AIC:               </th> <td>   574.9</td>\n",
       "</tr>\n",
       "<tr>\n",
       "  <th>Df Residuals:</th>          <td>    58</td>      <th>  BIC:               </th> <td>   663.5</td>\n",
       "</tr>\n",
       "<tr>\n",
       "  <th>Df Model:</th>              <td>    34</td>      <th>                     </th>     <td> </td>   \n",
       "</tr>\n",
       "<tr>\n",
       "  <th>Covariance Type:</th>      <td>nonrobust</td>    <th>                     </th>     <td> </td>   \n",
       "</tr>\n",
       "</table>\n",
       "<table class=\"simpletable\">\n",
       "<tr>\n",
       "           <td></td>              <th>coef</th>     <th>std err</th>      <th>t</th>      <th>P>|t|</th>  <th>[0.025</th>    <th>0.975]</th>  \n",
       "</tr>\n",
       "<tr>\n",
       "  <th>const</th>               <td>  111.7199</td> <td>   35.818</td> <td>    3.119</td> <td> 0.003</td> <td>   40.022</td> <td>  183.418</td>\n",
       "</tr>\n",
       "<tr>\n",
       "  <th>MPG.city</th>            <td>   -0.3305</td> <td>    0.428</td> <td>   -0.772</td> <td> 0.443</td> <td>   -1.188</td> <td>    0.527</td>\n",
       "</tr>\n",
       "<tr>\n",
       "  <th>MPG.highway</th>         <td>    0.1776</td> <td>    0.392</td> <td>    0.453</td> <td> 0.652</td> <td>   -0.607</td> <td>    0.963</td>\n",
       "</tr>\n",
       "<tr>\n",
       "  <th>EngineSize</th>          <td>   -1.6186</td> <td>    2.827</td> <td>   -0.573</td> <td> 0.569</td> <td>   -7.277</td> <td>    4.040</td>\n",
       "</tr>\n",
       "<tr>\n",
       "  <th>Horsepower</th>          <td>    0.1360</td> <td>    0.045</td> <td>    3.052</td> <td> 0.003</td> <td>    0.047</td> <td>    0.225</td>\n",
       "</tr>\n",
       "<tr>\n",
       "  <th>RPM</th>                 <td>   -0.0025</td> <td>    0.002</td> <td>   -1.084</td> <td> 0.283</td> <td>   -0.007</td> <td>    0.002</td>\n",
       "</tr>\n",
       "<tr>\n",
       "  <th>Rev.per.mile</th>        <td>    0.0017</td> <td>    0.002</td> <td>    0.770</td> <td> 0.444</td> <td>   -0.003</td> <td>    0.006</td>\n",
       "</tr>\n",
       "<tr>\n",
       "  <th>Fuel.tank.capacity</th>  <td>    0.4555</td> <td>    0.539</td> <td>    0.845</td> <td> 0.401</td> <td>   -0.623</td> <td>    1.534</td>\n",
       "</tr>\n",
       "<tr>\n",
       "  <th>Length</th>              <td>    0.0461</td> <td>    0.109</td> <td>    0.422</td> <td> 0.675</td> <td>   -0.173</td> <td>    0.265</td>\n",
       "</tr>\n",
       "<tr>\n",
       "  <th>Wheelbase</th>           <td>    0.3825</td> <td>    0.273</td> <td>    1.400</td> <td> 0.167</td> <td>   -0.164</td> <td>    0.929</td>\n",
       "</tr>\n",
       "<tr>\n",
       "  <th>Width</th>               <td>   -1.9048</td> <td>    0.541</td> <td>   -3.522</td> <td> 0.001</td> <td>   -2.988</td> <td>   -0.822</td>\n",
       "</tr>\n",
       "<tr>\n",
       "  <th>Turn.circle</th>         <td>   -0.6176</td> <td>    0.365</td> <td>   -1.692</td> <td> 0.096</td> <td>   -1.348</td> <td>    0.113</td>\n",
       "</tr>\n",
       "<tr>\n",
       "  <th>Rear.seat.room</th>      <td>    0.2879</td> <td>    0.370</td> <td>    0.778</td> <td> 0.440</td> <td>   -0.453</td> <td>    1.029</td>\n",
       "</tr>\n",
       "<tr>\n",
       "  <th>Luggage.room</th>        <td>    0.2935</td> <td>    0.322</td> <td>    0.913</td> <td> 0.365</td> <td>   -0.350</td> <td>    0.937</td>\n",
       "</tr>\n",
       "<tr>\n",
       "  <th>Weight</th>              <td>   -0.0013</td> <td>    0.006</td> <td>   -0.235</td> <td> 0.815</td> <td>   -0.013</td> <td>    0.010</td>\n",
       "</tr>\n",
       "<tr>\n",
       "  <th>Type_Large</th>          <td>    1.4411</td> <td>    4.203</td> <td>    0.343</td> <td> 0.733</td> <td>   -6.972</td> <td>    9.854</td>\n",
       "</tr>\n",
       "<tr>\n",
       "  <th>Type_Midsize</th>        <td>    3.8719</td> <td>    2.441</td> <td>    1.586</td> <td> 0.118</td> <td>   -1.015</td> <td>    8.759</td>\n",
       "</tr>\n",
       "<tr>\n",
       "  <th>Type_Small</th>          <td>    1.0329</td> <td>    2.666</td> <td>    0.387</td> <td> 0.700</td> <td>   -4.305</td> <td>    6.370</td>\n",
       "</tr>\n",
       "<tr>\n",
       "  <th>Type_Sporty</th>         <td>    6.2888</td> <td>    3.341</td> <td>    1.882</td> <td> 0.065</td> <td>   -0.399</td> <td>   12.977</td>\n",
       "</tr>\n",
       "<tr>\n",
       "  <th>Type_Van</th>            <td>    2.9088</td> <td>    6.985</td> <td>    0.416</td> <td> 0.679</td> <td>  -11.074</td> <td>   16.892</td>\n",
       "</tr>\n",
       "<tr>\n",
       "  <th>AirBags_Driver only</th> <td>   -3.7791</td> <td>    1.896</td> <td>   -1.993</td> <td> 0.051</td> <td>   -7.574</td> <td>    0.016</td>\n",
       "</tr>\n",
       "<tr>\n",
       "  <th>AirBags_None</th>        <td>   -8.3366</td> <td>    2.179</td> <td>   -3.826</td> <td> 0.000</td> <td>  -12.698</td> <td>   -3.975</td>\n",
       "</tr>\n",
       "<tr>\n",
       "  <th>DriveTrain_Front</th>    <td>    2.1068</td> <td>    2.299</td> <td>    0.916</td> <td> 0.363</td> <td>   -2.495</td> <td>    6.709</td>\n",
       "</tr>\n",
       "<tr>\n",
       "  <th>DriveTrain_Rear</th>     <td>    7.1087</td> <td>    2.903</td> <td>    2.449</td> <td> 0.017</td> <td>    1.298</td> <td>   12.920</td>\n",
       "</tr>\n",
       "<tr>\n",
       "  <th>Cylinders_4</th>         <td>   -1.9798</td> <td>    4.435</td> <td>   -0.446</td> <td> 0.657</td> <td>  -10.857</td> <td>    6.898</td>\n",
       "</tr>\n",
       "<tr>\n",
       "  <th>Cylinders_5</th>         <td>   -3.5177</td> <td>    6.706</td> <td>   -0.525</td> <td> 0.602</td> <td>  -16.941</td> <td>    9.906</td>\n",
       "</tr>\n",
       "<tr>\n",
       "  <th>Cylinders_6</th>         <td>    1.2106</td> <td>    5.571</td> <td>    0.217</td> <td> 0.829</td> <td>   -9.940</td> <td>   12.362</td>\n",
       "</tr>\n",
       "<tr>\n",
       "  <th>Cylinders_8</th>         <td>    3.9456</td> <td>    6.743</td> <td>    0.585</td> <td> 0.561</td> <td>   -9.553</td> <td>   17.444</td>\n",
       "</tr>\n",
       "<tr>\n",
       "  <th>Cylinders_rotary</th>    <td>  -14.7404</td> <td>   12.704</td> <td>   -1.160</td> <td> 0.251</td> <td>  -40.170</td> <td>   10.689</td>\n",
       "</tr>\n",
       "<tr>\n",
       "  <th>Man.trans.avail_Yes</th> <td>   -2.0878</td> <td>    2.144</td> <td>   -0.974</td> <td> 0.334</td> <td>   -6.380</td> <td>    2.204</td>\n",
       "</tr>\n",
       "<tr>\n",
       "  <th>Passengers_4</th>        <td>   -5.6927</td> <td>    7.075</td> <td>   -0.805</td> <td> 0.424</td> <td>  -19.855</td> <td>    8.470</td>\n",
       "</tr>\n",
       "<tr>\n",
       "  <th>Passengers_5</th>        <td>   -2.5601</td> <td>    7.485</td> <td>   -0.342</td> <td> 0.734</td> <td>  -17.544</td> <td>   12.423</td>\n",
       "</tr>\n",
       "<tr>\n",
       "  <th>Passengers_6</th>        <td>   -2.5100</td> <td>    8.217</td> <td>   -0.305</td> <td> 0.761</td> <td>  -18.958</td> <td>   13.938</td>\n",
       "</tr>\n",
       "<tr>\n",
       "  <th>Passengers_7</th>        <td>    0.2270</td> <td>    4.117</td> <td>    0.055</td> <td> 0.956</td> <td>   -8.014</td> <td>    8.468</td>\n",
       "</tr>\n",
       "<tr>\n",
       "  <th>Passengers_8</th>        <td>    2.6819</td> <td>    5.406</td> <td>    0.496</td> <td> 0.622</td> <td>   -8.139</td> <td>   13.503</td>\n",
       "</tr>\n",
       "<tr>\n",
       "  <th>Origin_non-USA</th>      <td>    0.9422</td> <td>    1.641</td> <td>    0.574</td> <td> 0.568</td> <td>   -2.342</td> <td>    4.226</td>\n",
       "</tr>\n",
       "</table>\n",
       "<table class=\"simpletable\">\n",
       "<tr>\n",
       "  <th>Omnibus:</th>       <td>13.042</td> <th>  Durbin-Watson:     </th> <td>   1.783</td>\n",
       "</tr>\n",
       "<tr>\n",
       "  <th>Prob(Omnibus):</th> <td> 0.001</td> <th>  Jarque-Bera (JB):  </th> <td>  19.932</td>\n",
       "</tr>\n",
       "<tr>\n",
       "  <th>Skew:</th>          <td> 0.599</td> <th>  Prob(JB):          </th> <td>4.70e-05</td>\n",
       "</tr>\n",
       "<tr>\n",
       "  <th>Kurtosis:</th>      <td> 4.926</td> <th>  Cond. No.          </th> <td>1.00e+16</td>\n",
       "</tr>\n",
       "</table><br/><br/>Notes:<br/>[1] Standard Errors assume that the covariance matrix of the errors is correctly specified.<br/>[2] The smallest eigenvalue is 3.98e-23. This might indicate that there are<br/>strong multicollinearity problems or that the design matrix is singular."
      ],
      "text/plain": [
       "<class 'statsmodels.iolib.summary.Summary'>\n",
       "\"\"\"\n",
       "                            OLS Regression Results                            \n",
       "==============================================================================\n",
       "Dep. Variable:                  Price   R-squared:                       0.855\n",
       "Model:                            OLS   Adj. R-squared:                  0.771\n",
       "Method:                 Least Squares   F-statistic:                     10.09\n",
       "Date:                Thu, 22 Jul 2021   Prob (F-statistic):           2.56e-14\n",
       "Time:                        12:38:01   Log-Likelihood:                -252.44\n",
       "No. Observations:                  93   AIC:                             574.9\n",
       "Df Residuals:                      58   BIC:                             663.5\n",
       "Df Model:                          34                                         \n",
       "Covariance Type:            nonrobust                                         \n",
       "=======================================================================================\n",
       "                          coef    std err          t      P>|t|      [0.025      0.975]\n",
       "---------------------------------------------------------------------------------------\n",
       "const                 111.7199     35.818      3.119      0.003      40.022     183.418\n",
       "MPG.city               -0.3305      0.428     -0.772      0.443      -1.188       0.527\n",
       "MPG.highway             0.1776      0.392      0.453      0.652      -0.607       0.963\n",
       "EngineSize             -1.6186      2.827     -0.573      0.569      -7.277       4.040\n",
       "Horsepower              0.1360      0.045      3.052      0.003       0.047       0.225\n",
       "RPM                    -0.0025      0.002     -1.084      0.283      -0.007       0.002\n",
       "Rev.per.mile            0.0017      0.002      0.770      0.444      -0.003       0.006\n",
       "Fuel.tank.capacity      0.4555      0.539      0.845      0.401      -0.623       1.534\n",
       "Length                  0.0461      0.109      0.422      0.675      -0.173       0.265\n",
       "Wheelbase               0.3825      0.273      1.400      0.167      -0.164       0.929\n",
       "Width                  -1.9048      0.541     -3.522      0.001      -2.988      -0.822\n",
       "Turn.circle            -0.6176      0.365     -1.692      0.096      -1.348       0.113\n",
       "Rear.seat.room          0.2879      0.370      0.778      0.440      -0.453       1.029\n",
       "Luggage.room            0.2935      0.322      0.913      0.365      -0.350       0.937\n",
       "Weight                 -0.0013      0.006     -0.235      0.815      -0.013       0.010\n",
       "Type_Large              1.4411      4.203      0.343      0.733      -6.972       9.854\n",
       "Type_Midsize            3.8719      2.441      1.586      0.118      -1.015       8.759\n",
       "Type_Small              1.0329      2.666      0.387      0.700      -4.305       6.370\n",
       "Type_Sporty             6.2888      3.341      1.882      0.065      -0.399      12.977\n",
       "Type_Van                2.9088      6.985      0.416      0.679     -11.074      16.892\n",
       "AirBags_Driver only    -3.7791      1.896     -1.993      0.051      -7.574       0.016\n",
       "AirBags_None           -8.3366      2.179     -3.826      0.000     -12.698      -3.975\n",
       "DriveTrain_Front        2.1068      2.299      0.916      0.363      -2.495       6.709\n",
       "DriveTrain_Rear         7.1087      2.903      2.449      0.017       1.298      12.920\n",
       "Cylinders_4            -1.9798      4.435     -0.446      0.657     -10.857       6.898\n",
       "Cylinders_5            -3.5177      6.706     -0.525      0.602     -16.941       9.906\n",
       "Cylinders_6             1.2106      5.571      0.217      0.829      -9.940      12.362\n",
       "Cylinders_8             3.9456      6.743      0.585      0.561      -9.553      17.444\n",
       "Cylinders_rotary      -14.7404     12.704     -1.160      0.251     -40.170      10.689\n",
       "Man.trans.avail_Yes    -2.0878      2.144     -0.974      0.334      -6.380       2.204\n",
       "Passengers_4           -5.6927      7.075     -0.805      0.424     -19.855       8.470\n",
       "Passengers_5           -2.5601      7.485     -0.342      0.734     -17.544      12.423\n",
       "Passengers_6           -2.5100      8.217     -0.305      0.761     -18.958      13.938\n",
       "Passengers_7            0.2270      4.117      0.055      0.956      -8.014       8.468\n",
       "Passengers_8            2.6819      5.406      0.496      0.622      -8.139      13.503\n",
       "Origin_non-USA          0.9422      1.641      0.574      0.568      -2.342       4.226\n",
       "==============================================================================\n",
       "Omnibus:                       13.042   Durbin-Watson:                   1.783\n",
       "Prob(Omnibus):                  0.001   Jarque-Bera (JB):               19.932\n",
       "Skew:                           0.599   Prob(JB):                     4.70e-05\n",
       "Kurtosis:                       4.926   Cond. No.                     1.00e+16\n",
       "==============================================================================\n",
       "\n",
       "Notes:\n",
       "[1] Standard Errors assume that the covariance matrix of the errors is correctly specified.\n",
       "[2] The smallest eigenvalue is 3.98e-23. This might indicate that there are\n",
       "strong multicollinearity problems or that the design matrix is singular.\n",
       "\"\"\""
      ]
     },
     "execution_count": 239,
     "metadata": {},
     "output_type": "execute_result"
    }
   ],
   "source": [
    "full_model = sm.OLS(y,Xc).fit()\n",
    "full_model.summary()"
   ]
  },
  {
   "cell_type": "markdown",
   "metadata": {},
   "source": [
    "##### As we can see there's a huge difference b/w the r-squared and adjusted r-squared score. (r-squared score is misleading us.)"
   ]
  },
  {
   "cell_type": "markdown",
   "metadata": {},
   "source": [
    "### Lets do feature Selection by `Recursive Backward Elimination.`"
   ]
  },
  {
   "cell_type": "code",
   "execution_count": 240,
   "metadata": {},
   "outputs": [
    {
     "name": "stdout",
     "output_type": "stream",
     "text": [
      "selected features:  ['const', 'Horsepower', 'Fuel.tank.capacity', 'Wheelbase', 'Width', 'Type_Midsize', 'AirBags_Driver only', 'AirBags_None', 'DriveTrain_Rear']\n"
     ]
    }
   ],
   "source": [
    "cols = list(Xc.columns)\n",
    "while (len(cols)>0):\n",
    "    X1 = Xc[cols]\n",
    "    model = sm.OLS(y,X1).fit()\n",
    "    p = model.pvalues\n",
    "    pmax = max(p)\n",
    "    feature_pmax = p.idxmax()\n",
    "    if(pmax>0.05):\n",
    "        cols.remove(feature_pmax)\n",
    "    else:\n",
    "        break\n",
    "selected_features = cols\n",
    "print('selected features: ',selected_features)\n"
   ]
  },
  {
   "cell_type": "code",
   "execution_count": 241,
   "metadata": {},
   "outputs": [
    {
     "data": {
      "text/html": [
       "<div>\n",
       "<style scoped>\n",
       "    .dataframe tbody tr th:only-of-type {\n",
       "        vertical-align: middle;\n",
       "    }\n",
       "\n",
       "    .dataframe tbody tr th {\n",
       "        vertical-align: top;\n",
       "    }\n",
       "\n",
       "    .dataframe thead th {\n",
       "        text-align: right;\n",
       "    }\n",
       "</style>\n",
       "<table border=\"1\" class=\"dataframe\">\n",
       "  <thead>\n",
       "    <tr style=\"text-align: right;\">\n",
       "      <th></th>\n",
       "      <th>const</th>\n",
       "      <th>Horsepower</th>\n",
       "      <th>Fuel.tank.capacity</th>\n",
       "      <th>Wheelbase</th>\n",
       "      <th>Width</th>\n",
       "      <th>Type_Midsize</th>\n",
       "      <th>AirBags_Driver only</th>\n",
       "      <th>AirBags_None</th>\n",
       "      <th>DriveTrain_Rear</th>\n",
       "    </tr>\n",
       "  </thead>\n",
       "  <tbody>\n",
       "    <tr>\n",
       "      <th>0</th>\n",
       "      <td>1.0</td>\n",
       "      <td>140</td>\n",
       "      <td>13.2</td>\n",
       "      <td>102</td>\n",
       "      <td>68</td>\n",
       "      <td>0</td>\n",
       "      <td>0</td>\n",
       "      <td>1</td>\n",
       "      <td>0</td>\n",
       "    </tr>\n",
       "    <tr>\n",
       "      <th>1</th>\n",
       "      <td>1.0</td>\n",
       "      <td>200</td>\n",
       "      <td>18.0</td>\n",
       "      <td>115</td>\n",
       "      <td>71</td>\n",
       "      <td>1</td>\n",
       "      <td>0</td>\n",
       "      <td>0</td>\n",
       "      <td>0</td>\n",
       "    </tr>\n",
       "    <tr>\n",
       "      <th>2</th>\n",
       "      <td>1.0</td>\n",
       "      <td>172</td>\n",
       "      <td>16.9</td>\n",
       "      <td>102</td>\n",
       "      <td>67</td>\n",
       "      <td>0</td>\n",
       "      <td>1</td>\n",
       "      <td>0</td>\n",
       "      <td>0</td>\n",
       "    </tr>\n",
       "    <tr>\n",
       "      <th>3</th>\n",
       "      <td>1.0</td>\n",
       "      <td>172</td>\n",
       "      <td>21.1</td>\n",
       "      <td>106</td>\n",
       "      <td>70</td>\n",
       "      <td>1</td>\n",
       "      <td>0</td>\n",
       "      <td>0</td>\n",
       "      <td>0</td>\n",
       "    </tr>\n",
       "    <tr>\n",
       "      <th>4</th>\n",
       "      <td>1.0</td>\n",
       "      <td>208</td>\n",
       "      <td>21.1</td>\n",
       "      <td>109</td>\n",
       "      <td>69</td>\n",
       "      <td>1</td>\n",
       "      <td>1</td>\n",
       "      <td>0</td>\n",
       "      <td>1</td>\n",
       "    </tr>\n",
       "  </tbody>\n",
       "</table>\n",
       "</div>"
      ],
      "text/plain": [
       "   const  Horsepower  Fuel.tank.capacity  Wheelbase  Width  Type_Midsize  \\\n",
       "0    1.0         140                13.2        102     68             0   \n",
       "1    1.0         200                18.0        115     71             1   \n",
       "2    1.0         172                16.9        102     67             0   \n",
       "3    1.0         172                21.1        106     70             1   \n",
       "4    1.0         208                21.1        109     69             1   \n",
       "\n",
       "   AirBags_Driver only  AirBags_None  DriveTrain_Rear  \n",
       "0                    0             1                0  \n",
       "1                    0             0                0  \n",
       "2                    1             0                0  \n",
       "3                    0             0                0  \n",
       "4                    1             0                1  "
      ]
     },
     "execution_count": 241,
     "metadata": {},
     "output_type": "execute_result"
    }
   ],
   "source": [
    "X_new = Xc[selected_features]\n",
    "X_new.head()"
   ]
  },
  {
   "cell_type": "code",
   "execution_count": null,
   "metadata": {},
   "outputs": [],
   "source": [
    "\n",
    "\n"
   ]
  },
  {
   "cell_type": "markdown",
   "metadata": {},
   "source": [
    "### Now lets build a model only with selected features."
   ]
  },
  {
   "cell_type": "code",
   "execution_count": 242,
   "metadata": {},
   "outputs": [
    {
     "data": {
      "text/html": [
       "<table class=\"simpletable\">\n",
       "<caption>OLS Regression Results</caption>\n",
       "<tr>\n",
       "  <th>Dep. Variable:</th>          <td>Price</td>      <th>  R-squared:         </th> <td>   0.792</td>\n",
       "</tr>\n",
       "<tr>\n",
       "  <th>Model:</th>                   <td>OLS</td>       <th>  Adj. R-squared:    </th> <td>   0.773</td>\n",
       "</tr>\n",
       "<tr>\n",
       "  <th>Method:</th>             <td>Least Squares</td>  <th>  F-statistic:       </th> <td>   40.08</td>\n",
       "</tr>\n",
       "<tr>\n",
       "  <th>Date:</th>             <td>Thu, 22 Jul 2021</td> <th>  Prob (F-statistic):</th> <td>1.51e-25</td>\n",
       "</tr>\n",
       "<tr>\n",
       "  <th>Time:</th>                 <td>12:38:01</td>     <th>  Log-Likelihood:    </th> <td> -269.27</td>\n",
       "</tr>\n",
       "<tr>\n",
       "  <th>No. Observations:</th>      <td>    93</td>      <th>  AIC:               </th> <td>   556.5</td>\n",
       "</tr>\n",
       "<tr>\n",
       "  <th>Df Residuals:</th>          <td>    84</td>      <th>  BIC:               </th> <td>   579.3</td>\n",
       "</tr>\n",
       "<tr>\n",
       "  <th>Df Model:</th>              <td>     8</td>      <th>                     </th>     <td> </td>   \n",
       "</tr>\n",
       "<tr>\n",
       "  <th>Covariance Type:</th>      <td>nonrobust</td>    <th>                     </th>     <td> </td>   \n",
       "</tr>\n",
       "</table>\n",
       "<table class=\"simpletable\">\n",
       "<tr>\n",
       "           <td></td>              <th>coef</th>     <th>std err</th>      <th>t</th>      <th>P>|t|</th>  <th>[0.025</th>    <th>0.975]</th>  \n",
       "</tr>\n",
       "<tr>\n",
       "  <th>const</th>               <td>   45.2793</td> <td>   13.385</td> <td>    3.383</td> <td> 0.001</td> <td>   18.662</td> <td>   71.897</td>\n",
       "</tr>\n",
       "<tr>\n",
       "  <th>Horsepower</th>          <td>    0.1137</td> <td>    0.015</td> <td>    7.468</td> <td> 0.000</td> <td>    0.083</td> <td>    0.144</td>\n",
       "</tr>\n",
       "<tr>\n",
       "  <th>Fuel.tank.capacity</th>  <td>    0.6133</td> <td>    0.305</td> <td>    2.011</td> <td> 0.047</td> <td>    0.007</td> <td>    1.220</td>\n",
       "</tr>\n",
       "<tr>\n",
       "  <th>Wheelbase</th>           <td>    0.4644</td> <td>    0.135</td> <td>    3.430</td> <td> 0.001</td> <td>    0.195</td> <td>    0.734</td>\n",
       "</tr>\n",
       "<tr>\n",
       "  <th>Width</th>               <td>   -1.4171</td> <td>    0.268</td> <td>   -5.283</td> <td> 0.000</td> <td>   -1.951</td> <td>   -0.884</td>\n",
       "</tr>\n",
       "<tr>\n",
       "  <th>Type_Midsize</th>        <td>    2.8692</td> <td>    1.244</td> <td>    2.307</td> <td> 0.024</td> <td>    0.396</td> <td>    5.342</td>\n",
       "</tr>\n",
       "<tr>\n",
       "  <th>AirBags_Driver only</th> <td>   -3.3025</td> <td>    1.435</td> <td>   -2.301</td> <td> 0.024</td> <td>   -6.157</td> <td>   -0.448</td>\n",
       "</tr>\n",
       "<tr>\n",
       "  <th>AirBags_None</th>        <td>   -6.1950</td> <td>    1.680</td> <td>   -3.687</td> <td> 0.000</td> <td>   -9.536</td> <td>   -2.854</td>\n",
       "</tr>\n",
       "<tr>\n",
       "  <th>DriveTrain_Rear</th>     <td>    4.6664</td> <td>    1.420</td> <td>    3.286</td> <td> 0.001</td> <td>    1.842</td> <td>    7.491</td>\n",
       "</tr>\n",
       "</table>\n",
       "<table class=\"simpletable\">\n",
       "<tr>\n",
       "  <th>Omnibus:</th>       <td>25.799</td> <th>  Durbin-Watson:     </th> <td>   1.931</td>\n",
       "</tr>\n",
       "<tr>\n",
       "  <th>Prob(Omnibus):</th> <td> 0.000</td> <th>  Jarque-Bera (JB):  </th> <td>  60.756</td>\n",
       "</tr>\n",
       "<tr>\n",
       "  <th>Skew:</th>          <td> 0.968</td> <th>  Prob(JB):          </th> <td>6.41e-14</td>\n",
       "</tr>\n",
       "<tr>\n",
       "  <th>Kurtosis:</th>      <td> 6.454</td> <th>  Cond. No.          </th> <td>5.50e+03</td>\n",
       "</tr>\n",
       "</table><br/><br/>Notes:<br/>[1] Standard Errors assume that the covariance matrix of the errors is correctly specified.<br/>[2] The condition number is large, 5.5e+03. This might indicate that there are<br/>strong multicollinearity or other numerical problems."
      ],
      "text/plain": [
       "<class 'statsmodels.iolib.summary.Summary'>\n",
       "\"\"\"\n",
       "                            OLS Regression Results                            \n",
       "==============================================================================\n",
       "Dep. Variable:                  Price   R-squared:                       0.792\n",
       "Model:                            OLS   Adj. R-squared:                  0.773\n",
       "Method:                 Least Squares   F-statistic:                     40.08\n",
       "Date:                Thu, 22 Jul 2021   Prob (F-statistic):           1.51e-25\n",
       "Time:                        12:38:01   Log-Likelihood:                -269.27\n",
       "No. Observations:                  93   AIC:                             556.5\n",
       "Df Residuals:                      84   BIC:                             579.3\n",
       "Df Model:                           8                                         \n",
       "Covariance Type:            nonrobust                                         \n",
       "=======================================================================================\n",
       "                          coef    std err          t      P>|t|      [0.025      0.975]\n",
       "---------------------------------------------------------------------------------------\n",
       "const                  45.2793     13.385      3.383      0.001      18.662      71.897\n",
       "Horsepower              0.1137      0.015      7.468      0.000       0.083       0.144\n",
       "Fuel.tank.capacity      0.6133      0.305      2.011      0.047       0.007       1.220\n",
       "Wheelbase               0.4644      0.135      3.430      0.001       0.195       0.734\n",
       "Width                  -1.4171      0.268     -5.283      0.000      -1.951      -0.884\n",
       "Type_Midsize            2.8692      1.244      2.307      0.024       0.396       5.342\n",
       "AirBags_Driver only    -3.3025      1.435     -2.301      0.024      -6.157      -0.448\n",
       "AirBags_None           -6.1950      1.680     -3.687      0.000      -9.536      -2.854\n",
       "DriveTrain_Rear         4.6664      1.420      3.286      0.001       1.842       7.491\n",
       "==============================================================================\n",
       "Omnibus:                       25.799   Durbin-Watson:                   1.931\n",
       "Prob(Omnibus):                  0.000   Jarque-Bera (JB):               60.756\n",
       "Skew:                           0.968   Prob(JB):                     6.41e-14\n",
       "Kurtosis:                       6.454   Cond. No.                     5.50e+03\n",
       "==============================================================================\n",
       "\n",
       "Notes:\n",
       "[1] Standard Errors assume that the covariance matrix of the errors is correctly specified.\n",
       "[2] The condition number is large, 5.5e+03. This might indicate that there are\n",
       "strong multicollinearity or other numerical problems.\n",
       "\"\"\""
      ]
     },
     "execution_count": 242,
     "metadata": {},
     "output_type": "execute_result"
    }
   ],
   "source": [
    "improvised_model = sm.OLS(y,X_new).fit()\n",
    "improvised_model.summary()"
   ]
  },
  {
   "cell_type": "markdown",
   "metadata": {},
   "source": [
    "##### As we can see now there's not much difference b/w r-squared and adjusted r-squared score, and AIC and BIC values also been reduced, this shows that we have been removed non contributing features and built model using contributing features."
   ]
  },
  {
   "cell_type": "markdown",
   "metadata": {},
   "source": [
    "### Lets Implement the model using sklearn package and find bias error and variance error using `Kfold cross validation.`"
   ]
  },
  {
   "cell_type": "code",
   "execution_count": 243,
   "metadata": {},
   "outputs": [],
   "source": [
    "LR = LinearRegression()"
   ]
  },
  {
   "cell_type": "code",
   "execution_count": 244,
   "metadata": {},
   "outputs": [],
   "source": [
    "## we can also give cv directly in cross_val_score but random_state cant be setted.\n",
    "## For setting random state we are setting CV explicitly.\n",
    "kf = KFold(n_splits=3,shuffle=True,random_state=0)"
   ]
  },
  {
   "cell_type": "code",
   "execution_count": 245,
   "metadata": {},
   "outputs": [
    {
     "name": "stdout",
     "output_type": "stream",
     "text": [
      "Bias error:  5.065193476244542\n",
      "Variance error:  0.9942979486444475\n"
     ]
    }
   ],
   "source": [
    "mse = cross_val_score(LR,X_new,y,cv=kf,scoring='neg_mean_squared_error')\n",
    "\n",
    "rmse = np.sqrt(np.abs(mse))\n",
    "rmse_avg = np.mean(rmse)\n",
    "rmse_SD = np.std(rmse,ddof=1)\n",
    "\n",
    "print('Bias error: ',rmse_avg)\n",
    "print('Variance error: ',rmse_SD)"
   ]
  },
  {
   "cell_type": "code",
   "execution_count": null,
   "metadata": {},
   "outputs": [],
   "source": [
    "\n",
    "\n"
   ]
  },
  {
   "cell_type": "markdown",
   "metadata": {},
   "source": [
    "### Lets build different non-linear Regression models and compare the results."
   ]
  },
  {
   "cell_type": "code",
   "execution_count": 246,
   "metadata": {},
   "outputs": [],
   "source": [
    "from sklearn.neighbors import KNeighborsRegressor\n",
    "from sklearn.ensemble import BaggingRegressor,AdaBoostRegressor,GradientBoostingRegressor,RandomForestRegressor,VotingRegressor\n",
    "from sklearn.tree import DecisionTreeRegressor\n",
    "from sklearn.model_selection import cross_val_score,GridSearchCV"
   ]
  },
  {
   "cell_type": "markdown",
   "metadata": {},
   "source": [
    "### `Gradient Boost Regressor.`"
   ]
  },
  {
   "cell_type": "code",
   "execution_count": 247,
   "metadata": {},
   "outputs": [],
   "source": [
    "GB_bias = []\n",
    "GB_Var = []\n",
    "\n",
    "for i in np.arange(1,100):\n",
    "   GB = GradientBoostingRegressor(n_estimators=i, random_state=0)\n",
    "\n",
    "   scores = cross_val_score(GB,X_new,y,cv=3,scoring='neg_mean_squared_error')\n",
    "   rmse = np.sqrt(np.abs(scores))\n",
    "   GB_bias.append(np.mean(rmse))\n",
    "   GB_Var.append(np.std(rmse,ddof=1))"
   ]
  },
  {
   "cell_type": "code",
   "execution_count": 248,
   "metadata": {},
   "outputs": [
    {
     "data": {
      "text/plain": [
       "(16, 6.900398190543755, 2.453743946030265)"
      ]
     },
     "execution_count": 248,
     "metadata": {},
     "output_type": "execute_result"
    }
   ],
   "source": [
    "np.argmin(GB_bias),np.min(GB_bias),GB_Var[16]"
   ]
  },
  {
   "cell_type": "markdown",
   "metadata": {},
   "source": [
    "### `AdaBoost Regressor.`"
   ]
  },
  {
   "cell_type": "code",
   "execution_count": 249,
   "metadata": {},
   "outputs": [],
   "source": [
    "AB_bias = []\n",
    "AB_Var = []\n",
    "\n",
    "for i in range(1,150,1):\n",
    "   AB = AdaBoostRegressor(n_estimators=i, random_state=0)\n",
    "\n",
    "   scores = cross_val_score(AB,X_new,y,cv=3,scoring='neg_mean_squared_error')\n",
    "   rmse = np.sqrt(np.abs(scores))\n",
    "   AB_bias.append(np.mean(rmse))\n",
    "   AB_Var.append(np.std(rmse,ddof=1))"
   ]
  },
  {
   "cell_type": "code",
   "execution_count": 250,
   "metadata": {},
   "outputs": [
    {
     "data": {
      "text/plain": [
       "(13, 6.0206233893633945, 2.019285656703856)"
      ]
     },
     "execution_count": 250,
     "metadata": {},
     "output_type": "execute_result"
    }
   ],
   "source": [
    "np.argmin(AB_bias),np.min(AB_bias),AB_Var[13]"
   ]
  },
  {
   "cell_type": "markdown",
   "metadata": {},
   "source": [
    "### `Bagging Regressor.`"
   ]
  },
  {
   "cell_type": "code",
   "execution_count": 251,
   "metadata": {},
   "outputs": [],
   "source": [
    "Bagg_bias = []\n",
    "Bagg_var = []\n",
    "LR = LinearRegression()\n",
    "for i in np.arange(1,100):\n",
    "   Bagg = BaggingRegressor(base_estimator=LR,n_estimators=i, random_state=0)\n",
    "\n",
    "   scores = cross_val_score(Bagg,X_new,y,cv=3,scoring='neg_mean_squared_error')\n",
    "   rmse = np.sqrt(np.abs(scores))\n",
    "   Bagg_bias.append(np.mean(rmse))\n",
    "   Bagg_var.append(np.std(rmse,ddof=1))"
   ]
  },
  {
   "cell_type": "code",
   "execution_count": 252,
   "metadata": {},
   "outputs": [
    {
     "data": {
      "text/plain": [
       "(59, 5.060406137505132, 1.235689835365319)"
      ]
     },
     "execution_count": 252,
     "metadata": {},
     "output_type": "execute_result"
    }
   ],
   "source": [
    "np.argmin(Bagg_bias),np.min(Bagg_bias),Bagg_var[59]"
   ]
  },
  {
   "cell_type": "markdown",
   "metadata": {},
   "source": [
    "### `RandomForest Regressor.`"
   ]
  },
  {
   "cell_type": "code",
   "execution_count": 253,
   "metadata": {},
   "outputs": [],
   "source": [
    "RF_bias=[]\n",
    "RF_var=[]\n",
    "for i in np.arange(1,100):\n",
    "   RF = RandomForestRegressor(criterion='mse',n_estimators=i, random_state=0)\n",
    "\n",
    "   scores = cross_val_score(RF,X_new,y,cv=3,scoring='neg_mean_squared_error')\n",
    "   rmse = np.sqrt(np.abs(scores))\n",
    "   RF_bias.append(np.mean(rmse))\n",
    "   RF_var.append(np.std(rmse,ddof=1))"
   ]
  },
  {
   "cell_type": "code",
   "execution_count": 254,
   "metadata": {},
   "outputs": [
    {
     "data": {
      "text/plain": [
       "(38, 6.44704380033613, 1.9900818062847319)"
      ]
     },
     "execution_count": 254,
     "metadata": {},
     "output_type": "execute_result"
    }
   ],
   "source": [
    "np.argmin(RF_bias),np.min(RF_bias),RF_var[38]"
   ]
  },
  {
   "cell_type": "markdown",
   "metadata": {},
   "source": [
    "### `Decision Tree Regressor.`"
   ]
  },
  {
   "cell_type": "code",
   "execution_count": 255,
   "metadata": {},
   "outputs": [],
   "source": [
    "DT_bias=[]\n",
    "DT_var=[]\n",
    "for i in np.arange(1,100):\n",
    "   DT = DecisionTreeRegressor(max_depth=i, random_state=0)\n",
    "\n",
    "   scores = cross_val_score(DT,X_new,y,cv=3,scoring='neg_mean_squared_error')\n",
    "   rmse = np.sqrt(np.abs(scores))\n",
    "   DT_bias.append(np.mean(rmse))\n",
    "   DT_var.append(np.std(rmse,ddof=1))"
   ]
  },
  {
   "cell_type": "code",
   "execution_count": 256,
   "metadata": {},
   "outputs": [
    {
     "data": {
      "text/plain": [
       "(1, 7.602315848674704, 2.7694269365300155)"
      ]
     },
     "execution_count": 256,
     "metadata": {},
     "output_type": "execute_result"
    }
   ],
   "source": [
    "np.argmin(DT_bias),np.min(DT_bias),DT_var[1]"
   ]
  },
  {
   "cell_type": "markdown",
   "metadata": {},
   "source": [
    "### `Stacking`"
   ]
  },
  {
   "cell_type": "code",
   "execution_count": 257,
   "metadata": {},
   "outputs": [],
   "source": [
    "LR = LinearRegression()\n",
    "LR_bag = BaggingRegressor(base_estimator=LR,n_estimators=60,random_state=0)\n",
    "LR_AB = AdaBoostRegressor(base_estimator=LR,n_estimators=14,random_state=0)\n",
    "DT_AB = AdaBoostRegressor(n_estimators=26,random_state=0)\n",
    "LR_GB = GradientBoostingRegressor(n_estimators=17,random_state=0)\n",
    "RF = RandomForestRegressor(criterion='mse',n_estimators=39,random_state=0)\n",
    "\n",
    "stacked = VotingRegressor(estimators=[('Bagged_LR',LR_bag),('LR',LR),\n",
    "                                     ('LR_Boost',LR_AB)])"
   ]
  },
  {
   "cell_type": "code",
   "execution_count": 258,
   "metadata": {},
   "outputs": [],
   "source": [
    "models = []\n",
    "models.append(('LinearRegression', LR))\n",
    "models.append(('BaggedLR',LR_bag))\n",
    "models.append(('Adaboost',LR_AB))\n",
    "models.append(('DT_boost',DT_AB))\n",
    "models.append(('GBoost',LR_GB))\n",
    "models.append(('RF',RF))\n",
    "models.append(('Stacked',stacked))\n"
   ]
  },
  {
   "cell_type": "code",
   "execution_count": 259,
   "metadata": {},
   "outputs": [],
   "source": [
    "from sklearn import model_selection"
   ]
  },
  {
   "cell_type": "code",
   "execution_count": 260,
   "metadata": {},
   "outputs": [
    {
     "name": "stdout",
     "output_type": "stream",
     "text": [
      "LinearRegression: 5.065193 (0.994298)\n",
      "BaggedLR: 5.052444 (1.031353)\n",
      "Adaboost: 5.565516 (0.389558)\n",
      "DT_boost: 6.009268 (1.268241)\n",
      "GBoost: 6.057505 (1.900875)\n",
      "RF: 5.906276 (2.113345)\n",
      "Stacked: 5.181032 (0.823781)\n"
     ]
    }
   ],
   "source": [
    "results = []\n",
    "names = []\n",
    "for name, model in models:\n",
    "    kfold = model_selection.KFold(shuffle=True,n_splits=3,random_state=0)\n",
    "    cv_results = model_selection.cross_val_score(model, X_new, y ,cv=kfold, scoring='neg_mean_squared_error')\n",
    "    results.append(np.sqrt(np.abs(cv_results)))\n",
    "    names.append(name)\n",
    "    print(\"%s: %f (%f)\" % (name, np.mean(np.sqrt(np.abs(cv_results))),np.std(np.sqrt(np.abs(cv_results)),ddof=1)))"
   ]
  },
  {
   "cell_type": "code",
   "execution_count": null,
   "metadata": {},
   "outputs": [],
   "source": [
    "\n",
    "\n"
   ]
  },
  {
   "cell_type": "code",
   "execution_count": 261,
   "metadata": {},
   "outputs": [],
   "source": [
    "from sklearn.neighbors import KNeighborsRegressor"
   ]
  },
  {
   "cell_type": "code",
   "execution_count": null,
   "metadata": {},
   "outputs": [],
   "source": [
    "DT_bias=[]\n",
    "DT_var=[]\n",
    "for i in np.arange(1,100):\n",
    "          knn = KNeighborsRegressor()"
   ]
  },
  {
   "cell_type": "code",
   "execution_count": null,
   "metadata": {},
   "outputs": [],
   "source": []
  },
  {
   "cell_type": "code",
   "execution_count": null,
   "metadata": {},
   "outputs": [],
   "source": []
  },
  {
   "cell_type": "code",
   "execution_count": null,
   "metadata": {},
   "outputs": [],
   "source": []
  }
 ],
 "metadata": {
  "kernelspec": {
   "display_name": "Python 3",
   "language": "python",
   "name": "python3"
  },
  "language_info": {
   "codemirror_mode": {
    "name": "ipython",
    "version": 3
   },
   "file_extension": ".py",
   "mimetype": "text/x-python",
   "name": "python",
   "nbconvert_exporter": "python",
   "pygments_lexer": "ipython3",
   "version": "3.8.5"
  }
 },
 "nbformat": 4,
 "nbformat_minor": 4
}
